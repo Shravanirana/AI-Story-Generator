{
 "cells": [
  {
   "cell_type": "code",
   "execution_count": null,
   "id": "91bf6643",
   "metadata": {},
   "outputs": [],
   "source": [
    "!pip install openai"
   ]
  },
  {
   "cell_type": "code",
   "execution_count": null,
   "id": "1ef5be76",
   "metadata": {},
   "outputs": [],
   "source": [
    "import openai\n",
    "import os\n",
    "\n",
    "openai.api_key = os.getenv(\"OPENAI_API_KEY\")"
   ]
  },
  {
   "cell_type": "code",
   "execution_count": null,
   "id": "05880dcc",
   "metadata": {},
   "outputs": [],
   "source": [
    "prompt = \"A brave young mage discovers an ancient dragon egg in a hidden cave.\""
   ]
  },
  {
   "cell_type": "code",
   "execution_count": null,
   "id": "d2e0a272",
   "metadata": {},
   "outputs": [],
   "source": [
    "def generate_story(prompt, model=\"gpt-4o\"):\n",
    "    response = openai.ChatCompletion.create(\n",
    "        model=model,\n",
    "        messages=[\n",
    "            {\"role\": \"system\", \"content\": \"You are a creative story writer.\"},\n",
    "            {\"role\": \"user\", \"content\": prompt}\n",
    "        ],\n",
    "        temperature=0.9,\n",
    "        max_tokens=800\n",
    "    )\n",
    "    return response.choices[0].message.content.strip()\n",
    "\n",
    "story = generate_story(prompt)\n",
    "print(\"\\n Generated Story:\\n\")\n",
    "print(story)"
   ]
  },
  {
   "cell_type": "code",
   "execution_count": null,
   "id": "8a82ba3a",
   "metadata": {},
   "outputs": [],
   "source": [
    "with open(\"generated_story.txt\", \"w\", encoding=\"utf-8\") as f:\n",
    "    f.write(story)\n",
    "print(\"\\n Story saved to 'generated_story.txt'\")"
   ]
  }
 ],
 "metadata": {
  "language_info": {
   "name": "python"
  }
 },
 "nbformat": 4,
 "nbformat_minor": 5
}
